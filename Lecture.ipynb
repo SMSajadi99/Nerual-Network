{
  "cells": [
    {
      "cell_type": "markdown",
      "metadata": {
        "id": "view-in-github",
        "colab_type": "text"
      },
      "source": [
        "<a href=\"https://colab.research.google.com/github/SMSajadi99/Nerual-Network/blob/main/Lecture.ipynb\" target=\"_parent\"><img src=\"https://colab.research.google.com/assets/colab-badge.svg\" alt=\"Open In Colab\"/></a>"
      ]
    },
    {
      "cell_type": "markdown",
      "source": [
        "# Initial packages"
      ],
      "metadata": {
        "id": "2T2mOy0fg-lZ"
      }
    },
    {
      "cell_type": "code",
      "source": [
        "!pip install numpy=\n",
        "!pip install pandas=\n",
        "!pip install"
      ],
      "metadata": {
        "id": "DYrshryzZR6k"
      },
      "execution_count": null,
      "outputs": []
    },
    {
      "cell_type": "code",
      "source": [],
      "metadata": {
        "id": "vQLYoKsbbd5n"
      },
      "execution_count": null,
      "outputs": []
    }
  ],
  "metadata": {
    "colab": {
      "name": "Welcome To Colaboratory",
      "provenance": [],
      "include_colab_link": true
    },
    "kernelspec": {
      "display_name": "Python 3",
      "name": "python3"
    }
  },
  "nbformat": 4,
  "nbformat_minor": 0
}