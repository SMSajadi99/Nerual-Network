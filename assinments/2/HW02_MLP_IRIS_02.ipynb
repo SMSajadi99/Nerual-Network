{
 "cells": [
  {
   "cell_type": "code",
   "outputs": [],
   "source": [
    "import numpy as np\n",
    "import pandas as pd\n",
    "from sklearn.model_selection import train_test_split\n",
    "from sklearn.neighbors import KNeighborsClassifier\n",
    "from sklearn.metrics import accuracy_score\n",
    "from sklearn.metrics import classification_report\n",
    "from sklearn.metrics import confusion_matrix,ConfusionMatrixDisplay\n",
    "from sklearn.preprocessing import StandardScaler\n"
   ],
   "metadata": {
    "collapsed": false,
    "ExecuteTime": {
     "end_time": "2024-01-28T16:48:42.153361200Z",
     "start_time": "2024-01-28T16:48:42.146215900Z"
    }
   },
   "execution_count": 63
  },
  {
   "cell_type": "code",
   "outputs": [
    {
     "data": {
      "text/plain": "   sepal_length  sepal_width  petal_length  petal_width     species\n0           6.3          2.7           1.4          0.3      setosa\n1           6.5          2.7           6.1          1.9   virginica\n2           5.9          3.6           1.1          0.3      setosa\n3           5.4          2.6           1.1          1.4  versicolor\n4           6.5          3.2           1.4          1.8  versicolor",
      "text/html": "<div>\n<style scoped>\n    .dataframe tbody tr th:only-of-type {\n        vertical-align: middle;\n    }\n\n    .dataframe tbody tr th {\n        vertical-align: top;\n    }\n\n    .dataframe thead th {\n        text-align: right;\n    }\n</style>\n<table border=\"1\" class=\"dataframe\">\n  <thead>\n    <tr style=\"text-align: right;\">\n      <th></th>\n      <th>sepal_length</th>\n      <th>sepal_width</th>\n      <th>petal_length</th>\n      <th>petal_width</th>\n      <th>species</th>\n    </tr>\n  </thead>\n  <tbody>\n    <tr>\n      <th>0</th>\n      <td>6.3</td>\n      <td>2.7</td>\n      <td>1.4</td>\n      <td>0.3</td>\n      <td>setosa</td>\n    </tr>\n    <tr>\n      <th>1</th>\n      <td>6.5</td>\n      <td>2.7</td>\n      <td>6.1</td>\n      <td>1.9</td>\n      <td>virginica</td>\n    </tr>\n    <tr>\n      <th>2</th>\n      <td>5.9</td>\n      <td>3.6</td>\n      <td>1.1</td>\n      <td>0.3</td>\n      <td>setosa</td>\n    </tr>\n    <tr>\n      <th>3</th>\n      <td>5.4</td>\n      <td>2.6</td>\n      <td>1.1</td>\n      <td>1.4</td>\n      <td>versicolor</td>\n    </tr>\n    <tr>\n      <th>4</th>\n      <td>6.5</td>\n      <td>3.2</td>\n      <td>1.4</td>\n      <td>1.8</td>\n      <td>versicolor</td>\n    </tr>\n  </tbody>\n</table>\n</div>"
     },
     "execution_count": 50,
     "metadata": {},
     "output_type": "execute_result"
    }
   ],
   "source": [
    "iris_data = pd.read_csv('DataSet/Iris.csv')\n",
    "iris_data.head()"
   ],
   "metadata": {
    "collapsed": false,
    "ExecuteTime": {
     "end_time": "2024-01-28T16:43:17.833111900Z",
     "start_time": "2024-01-28T16:43:17.804314500Z"
    }
   },
   "execution_count": 50
  },
  {
   "cell_type": "code",
   "outputs": [
    {
     "data": {
      "text/plain": "array([[6.3, 2.7, 1.4, 0.3],\n       [6.5, 2.7, 6.1, 1.9],\n       [5.9, 3.6, 1.1, 0.3],\n       ...,\n       [5.7, 2.7, 0.9, 1.6],\n       [4.8, 3. , 3.3, 1.4],\n       [5.6, 2.7, 4.3, 1.3]])"
     },
     "execution_count": 51,
     "metadata": {},
     "output_type": "execute_result"
    }
   ],
   "source": [
    "x = iris_data.iloc[:,:-1].values\n",
    "x"
   ],
   "metadata": {
    "collapsed": false,
    "ExecuteTime": {
     "end_time": "2024-01-28T16:43:56.454266800Z",
     "start_time": "2024-01-28T16:43:56.446526800Z"
    }
   },
   "execution_count": 51
  },
  {
   "cell_type": "code",
   "outputs": [
    {
     "data": {
      "text/plain": "0            setosa\n1         virginica\n2            setosa\n3        versicolor\n4        versicolor\n            ...    \n49731     virginica\n49732    versicolor\n49733        setosa\n49734        setosa\n49735    versicolor\nName: species, Length: 49736, dtype: object"
     },
     "execution_count": 53,
     "metadata": {},
     "output_type": "execute_result"
    }
   ],
   "source": [
    "y = iris_data.iloc[:,-1]\n",
    "y"
   ],
   "metadata": {
    "collapsed": false,
    "ExecuteTime": {
     "end_time": "2024-01-28T16:44:25.615082Z",
     "start_time": "2024-01-28T16:44:25.605075Z"
    }
   },
   "execution_count": 53
  },
  {
   "cell_type": "code",
   "outputs": [],
   "source": [
    "train_x,test_x,train_y,test_y = train_test_split(x,y,test_size = 0.01,random_state= 42)\n",
    "train_x\n"
   ],
   "metadata": {
    "collapsed": false,
    "ExecuteTime": {
     "end_time": "2024-01-28T16:45:07.496327Z",
     "start_time": "2024-01-28T16:45:07.490308800Z"
    }
   },
   "execution_count": 56
  },
  {
   "cell_type": "code",
   "outputs": [
    {
     "data": {
      "text/plain": "array([[ 0.11655878,  0.1434326 ,  0.43351391,  0.17437942],\n       [ 0.54866731,  0.1434326 ,  0.76601512,  0.31975859],\n       [-1.32380298, -2.07803856,  0.15642958, -0.11637892],\n       ...,\n       [ 1.55692055,  1.25416818,  0.82143199,  0.7558961 ],\n       [-1.75591151, -1.52267077, -1.45065957, -0.11637892],\n       [-0.31554974,  0.69880039,  0.32268018, -0.11637892]])"
     },
     "execution_count": 58,
     "metadata": {},
     "output_type": "execute_result"
    }
   ],
   "source": [
    "scaler = StandardScaler()\n",
    "scaler.fit(train_x)\n",
    "train_x = scaler.transform(train_x)\n",
    "test_x = scaler.transform(test_x)\n",
    "train_x"
   ],
   "metadata": {
    "collapsed": false,
    "ExecuteTime": {
     "end_time": "2024-01-28T16:45:48.944076100Z",
     "start_time": "2024-01-28T16:45:48.934101300Z"
    }
   },
   "execution_count": 58
  },
  {
   "cell_type": "code",
   "outputs": [
    {
     "data": {
      "text/plain": "array(['versicolor', 'setosa', 'virginica', 'versicolor', 'versicolor',\n       'setosa', 'versicolor', 'versicolor', 'setosa', 'virginica',\n       'virginica', 'versicolor', 'virginica', 'versicolor', 'versicolor',\n       'setosa', 'versicolor', 'setosa', 'virginica', 'versicolor',\n       'virginica', 'virginica', 'versicolor', 'versicolor', 'versicolor',\n       'versicolor', 'virginica', 'versicolor', 'versicolor', 'setosa',\n       'versicolor', 'virginica', 'versicolor', 'versicolor',\n       'versicolor', 'versicolor', 'virginica', 'versicolor',\n       'versicolor', 'versicolor', 'versicolor', 'setosa', 'virginica',\n       'versicolor', 'versicolor', 'versicolor', 'versicolor',\n       'versicolor', 'versicolor', 'versicolor', 'virginica',\n       'versicolor', 'versicolor', 'versicolor', 'setosa', 'virginica',\n       'virginica', 'versicolor', 'versicolor', 'versicolor', 'setosa',\n       'versicolor', 'virginica', 'virginica', 'virginica', 'versicolor',\n       'virginica', 'versicolor', 'versicolor', 'versicolor',\n       'versicolor', 'virginica', 'versicolor', 'versicolor',\n       'versicolor', 'virginica', 'versicolor', 'versicolor',\n       'versicolor', 'versicolor', 'virginica', 'versicolor', 'virginica',\n       'versicolor', 'versicolor', 'virginica', 'versicolor', 'virginica',\n       'virginica', 'versicolor', 'virginica', 'versicolor', 'versicolor',\n       'virginica', 'virginica', 'virginica', 'versicolor', 'versicolor',\n       'setosa', 'versicolor', 'versicolor', 'setosa', 'virginica',\n       'setosa', 'virginica', 'versicolor', 'virginica', 'versicolor',\n       'setosa', 'versicolor', 'setosa', 'versicolor', 'versicolor',\n       'versicolor', 'virginica', 'versicolor', 'versicolor',\n       'versicolor', 'versicolor', 'versicolor', 'virginica',\n       'versicolor', 'virginica', 'setosa', 'setosa', 'virginica',\n       'versicolor', 'virginica', 'versicolor', 'versicolor', 'setosa',\n       'versicolor', 'versicolor', 'versicolor', 'versicolor',\n       'virginica', 'versicolor', 'versicolor', 'versicolor',\n       'versicolor', 'versicolor', 'virginica', 'virginica', 'versicolor',\n       'virginica', 'versicolor', 'versicolor', 'setosa', 'virginica',\n       'virginica', 'versicolor', 'setosa', 'versicolor', 'virginica',\n       'versicolor', 'setosa', 'virginica', 'versicolor', 'virginica',\n       'versicolor', 'versicolor', 'setosa', 'virginica', 'setosa',\n       'versicolor', 'versicolor', 'virginica', 'virginica', 'virginica',\n       'versicolor', 'virginica', 'versicolor', 'virginica', 'setosa',\n       'versicolor', 'versicolor', 'versicolor', 'versicolor',\n       'virginica', 'versicolor', 'virginica', 'versicolor', 'versicolor',\n       'versicolor', 'versicolor', 'virginica', 'virginica', 'setosa',\n       'versicolor', 'virginica', 'versicolor', 'setosa', 'versicolor',\n       'versicolor', 'virginica', 'versicolor', 'versicolor',\n       'versicolor', 'versicolor', 'virginica', 'versicolor',\n       'versicolor', 'setosa', 'virginica', 'versicolor', 'virginica',\n       'virginica', 'setosa', 'virginica', 'versicolor', 'versicolor',\n       'versicolor', 'versicolor', 'versicolor', 'setosa', 'versicolor',\n       'virginica', 'versicolor', 'versicolor', 'versicolor', 'setosa',\n       'virginica', 'versicolor', 'virginica', 'virginica', 'setosa',\n       'setosa', 'versicolor', 'virginica', 'versicolor', 'virginica',\n       'virginica', 'virginica', 'versicolor', 'setosa', 'virginica',\n       'virginica', 'virginica', 'virginica', 'versicolor', 'setosa',\n       'virginica', 'versicolor', 'versicolor', 'virginica', 'versicolor',\n       'versicolor', 'versicolor', 'versicolor', 'virginica',\n       'versicolor', 'virginica', 'versicolor', 'virginica', 'versicolor',\n       'versicolor', 'virginica', 'versicolor', 'virginica', 'versicolor',\n       'setosa', 'versicolor', 'virginica', 'virginica', 'virginica',\n       'setosa', 'versicolor', 'virginica', 'setosa', 'setosa',\n       'versicolor', 'versicolor', 'versicolor', 'virginica',\n       'versicolor', 'versicolor', 'versicolor', 'virginica',\n       'versicolor', 'versicolor', 'versicolor', 'versicolor',\n       'versicolor', 'virginica', 'versicolor', 'versicolor',\n       'versicolor', 'virginica', 'virginica', 'virginica', 'setosa',\n       'versicolor', 'versicolor', 'versicolor', 'versicolor',\n       'versicolor', 'versicolor', 'virginica', 'virginica', 'versicolor',\n       'versicolor', 'versicolor', 'versicolor', 'virginica', 'setosa',\n       'versicolor', 'versicolor', 'setosa', 'virginica', 'setosa',\n       'virginica', 'versicolor', 'versicolor', 'versicolor', 'setosa',\n       'virginica', 'virginica', 'versicolor', 'virginica', 'setosa',\n       'virginica', 'virginica', 'versicolor', 'versicolor', 'versicolor',\n       'versicolor', 'versicolor', 'setosa', 'virginica', 'virginica',\n       'setosa', 'virginica', 'virginica', 'versicolor', 'versicolor',\n       'versicolor', 'virginica', 'versicolor', 'virginica', 'versicolor',\n       'virginica', 'setosa', 'setosa', 'versicolor', 'versicolor',\n       'versicolor', 'versicolor', 'virginica', 'versicolor',\n       'versicolor', 'versicolor', 'setosa', 'virginica', 'virginica',\n       'versicolor', 'virginica', 'virginica', 'versicolor', 'versicolor',\n       'versicolor', 'setosa', 'versicolor', 'virginica', 'virginica',\n       'setosa', 'versicolor', 'versicolor', 'virginica', 'virginica',\n       'virginica', 'versicolor', 'virginica', 'virginica', 'virginica',\n       'versicolor', 'versicolor', 'versicolor', 'versicolor',\n       'virginica', 'virginica', 'setosa', 'versicolor', 'virginica',\n       'versicolor', 'virginica', 'setosa', 'virginica', 'versicolor',\n       'versicolor', 'virginica', 'virginica', 'versicolor', 'versicolor',\n       'versicolor', 'virginica', 'virginica', 'versicolor', 'versicolor',\n       'versicolor', 'versicolor', 'versicolor', 'virginica',\n       'versicolor', 'versicolor', 'virginica', 'virginica', 'versicolor',\n       'virginica', 'versicolor', 'versicolor', 'virginica', 'versicolor',\n       'virginica', 'virginica', 'virginica', 'setosa', 'setosa',\n       'versicolor', 'versicolor', 'versicolor', 'versicolor',\n       'virginica', 'versicolor', 'versicolor', 'versicolor',\n       'versicolor', 'versicolor', 'versicolor', 'versicolor',\n       'versicolor', 'virginica', 'virginica', 'versicolor', 'versicolor',\n       'versicolor', 'virginica', 'virginica', 'setosa', 'virginica',\n       'versicolor', 'versicolor', 'virginica', 'versicolor', 'setosa',\n       'virginica', 'versicolor', 'setosa', 'versicolor', 'versicolor',\n       'virginica', 'versicolor', 'versicolor', 'setosa', 'versicolor',\n       'versicolor', 'setosa', 'versicolor', 'setosa', 'setosa',\n       'versicolor', 'setosa', 'setosa', 'setosa', 'virginica', 'setosa',\n       'virginica', 'versicolor', 'versicolor', 'virginica', 'virginica',\n       'versicolor', 'versicolor', 'versicolor', 'virginica', 'setosa',\n       'versicolor', 'versicolor', 'virginica', 'virginica', 'versicolor',\n       'virginica', 'versicolor', 'virginica', 'versicolor', 'setosa',\n       'versicolor', 'virginica', 'virginica', 'versicolor', 'setosa',\n       'versicolor', 'virginica', 'virginica', 'setosa', 'versicolor',\n       'setosa', 'virginica', 'versicolor'], dtype=object)"
     },
     "execution_count": 67,
     "metadata": {},
     "output_type": "execute_result"
    }
   ],
   "source": [
    "knn = KNeighborsClassifier(n_neighbors=3)\n",
    "knn.fit(train_x,train_y)\n",
    "ghost = knn.predict(test_x)\n",
    "ghost"
   ],
   "metadata": {
    "collapsed": false,
    "ExecuteTime": {
     "end_time": "2024-01-28T16:55:09.695835200Z",
     "start_time": "2024-01-28T16:55:09.615415100Z"
    }
   },
   "execution_count": 67
  },
  {
   "cell_type": "code",
   "outputs": [
    {
     "name": "stdout",
     "output_type": "stream",
     "text": [
      "[[ 52  27   2]\n",
      " [ 16 229   5]\n",
      " [  2  10 155]]\n"
     ]
    },
    {
     "data": {
      "text/plain": "<Figure size 640x480 with 2 Axes>",
      "image/png": "[encoded data removed]"
     },
     "metadata": {},
     "output_type": "display_data"
    }
   ],
   "source": [
    "label = ['versicolor','virginica','setosa']\n",
    "\n",
    "devil = confusion_matrix(test_y,ghost)\n",
    "\n",
    "dis = ConfusionMatrixDisplay(devil,display_labels = label)\n",
    "\n",
    "dis.plot()\n",
    "\n",
    "print(devil)"
   ],
   "metadata": {
    "collapsed": false,
    "ExecuteTime": {
     "end_time": "2024-01-28T16:55:13.335310700Z",
     "start_time": "2024-01-28T16:55:13.179042900Z"
    }
   },
   "execution_count": 68
  },
  {
   "cell_type": "code",
   "outputs": [
    {
     "data": {
      "text/plain": "0.8795180722891566"
     },
     "execution_count": 64,
     "metadata": {},
     "output_type": "execute_result"
    }
   ],
   "source": [
    "score = accuracy_score(test_y,ghost)\n",
    "score"
   ],
   "metadata": {
    "collapsed": false,
    "ExecuteTime": {
     "end_time": "2024-01-28T16:48:50.636848100Z",
     "start_time": "2024-01-28T16:48:50.629556300Z"
    }
   },
   "execution_count": 64
  },
  {
   "cell_type": "code",
   "outputs": [
    {
     "name": "stdout",
     "output_type": "stream",
     "text": [
      "              precision    recall  f1-score   support\n",
      "\n",
      "      setosa       0.73      0.65      0.69        81\n",
      "  versicolor       0.87      0.92      0.89       250\n",
      "   virginica       0.96      0.93      0.95       167\n",
      "\n",
      "    accuracy                           0.88       498\n",
      "   macro avg       0.85      0.83      0.84       498\n",
      "weighted avg       0.88      0.88      0.88       498\n"
     ]
    }
   ],
   "source": [
    "print(classification_report(test_y,ghost))"
   ],
   "metadata": {
    "collapsed": false,
    "ExecuteTime": {
     "end_time": "2024-01-28T16:48:52.692816700Z",
     "start_time": "2024-01-28T16:48:52.677402900Z"
    }
   },
   "execution_count": 65
  },
  {
   "cell_type": "code",
   "outputs": [
    {
     "data": {
      "text/plain": "array(['versicolor'], dtype=object)"
     },
     "execution_count": 66,
     "metadata": {},
     "output_type": "execute_result"
    }
   ],
   "source": [
    "pred = knn.predict(scaler.transform([[6.8,2.5,2.8,1.7]]))\n",
    "pred"
   ],
   "metadata": {
    "collapsed": false,
    "ExecuteTime": {
     "end_time": "2024-01-28T16:48:59.028142700Z",
     "start_time": "2024-01-28T16:48:59.021372600Z"
    }
   },
   "execution_count": 66
  }
 ],
 "metadata": {
  "kernelspec": {
   "display_name": "Python 3",
   "language": "python",
   "name": "python3"
  },
  "language_info": {
   "codemirror_mode": {
    "name": "ipython",
    "version": 3
   },
   "file_extension": ".py",
   "mimetype": "text/x-python",
   "name": "python",
   "nbconvert_exporter": "python",
   "pygments_lexer": "ipython3",
   "version": "3.7.7"
  }
 },
 "nbformat": 4,
 "nbformat_minor": 4
}
